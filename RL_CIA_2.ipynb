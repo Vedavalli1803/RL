{
  "cells": [
    {
      "cell_type": "markdown",
      "metadata": {
        "id": "zS30jZx_MsKF"
      },
      "source": [
        "RL - CIA2\n",
        "\n",
        "Problem : Create a 100x100 grid with obstacles in between 2 random points. Build an MDP based RL agent to optimise both policies and actions at every state. Benchmark DP method with other RL solutions for the same problem.\n"
      ]
    },
    {
      "cell_type": "code",
      "source": [
        "import numpy as np\n",
        "import random\n",
        "import matplotlib.pyplot as plt\n",
        "import seaborn as sns\n",
        "import time\n",
        "sns.set()"
      ],
      "metadata": {
        "id": "ak2aTbotaaRD"
      },
      "execution_count": 67,
      "outputs": []
    },
    {
      "cell_type": "markdown",
      "source": [
        "Grid and Environment setup"
      ],
      "metadata": {
        "id": "2m0LIdsobcw_"
      }
    },
    {
      "cell_type": "code",
      "source": [
        "GRID_SIZE = 100  # 100x100 grid\n",
        "OBSTACLE_RATIO = 0.2  # 20% obstacles"
      ],
      "metadata": {
        "id": "vD8603J8acfZ"
      },
      "execution_count": 68,
      "outputs": []
    },
    {
      "cell_type": "markdown",
      "source": [
        "Initialising grid with obstacles"
      ],
      "metadata": {
        "id": "7bm3Xbdabndm"
      }
    },
    {
      "cell_type": "code",
      "source": [
        "grid = np.zeros((GRID_SIZE, GRID_SIZE))\n",
        "num_obstacles = int(OBSTACLE_RATIO * GRID_SIZE * GRID_SIZE)\n",
        "obstacle_positions = random.sample([(i, j) for i in range(GRID_SIZE) for j in range(GRID_SIZE)], num_obstacles)\n",
        "for (x, y) in obstacle_positions:\n",
        "    grid[x, y] = -1  # obstacles -> -1"
      ],
      "metadata": {
        "id": "ZzGM5LqQaeHK"
      },
      "execution_count": 69,
      "outputs": []
    },
    {
      "cell_type": "markdown",
      "source": [
        "Random Start - Stop points"
      ],
      "metadata": {
        "id": "nlYINCfvbrac"
      }
    },
    {
      "cell_type": "code",
      "source": [
        "start = (random.randint(0, GRID_SIZE-1), random.randint(0, GRID_SIZE-1))\n",
        "end = (random.randint(0, GRID_SIZE-1), random.randint(0, GRID_SIZE-1))\n",
        "while grid[start] == -1 or grid[end] == -1:  #condition for start , stop points to not be an obstacle\n",
        "    start = (random.randint(0, GRID_SIZE-1), random.randint(0, GRID_SIZE-1))\n",
        "    end = (random.randint(0, GRID_SIZE-1), random.randint(0, GRID_SIZE-1))"
      ],
      "metadata": {
        "id": "1RcSGHnJagdG"
      },
      "execution_count": 70,
      "outputs": []
    },
    {
      "cell_type": "code",
      "source": [
        "grid[end] = 1 #goal score"
      ],
      "metadata": {
        "id": "9QZx4AN5ai_k"
      },
      "execution_count": 71,
      "outputs": []
    },
    {
      "cell_type": "code",
      "source": [
        "ACTIONS = [(0, 1), (1, 0), (0, -1), (-1, 0)]\n",
        "REWARD_GOAL = 100\n",
        "REWARD_STEP = -1\n",
        "REWARD_OBSTACLE = -100"
      ],
      "metadata": {
        "id": "0fx4WgIhdypJ"
      },
      "execution_count": 72,
      "outputs": []
    },
    {
      "cell_type": "markdown",
      "source": [
        "To take an action and get the next state and reward"
      ],
      "metadata": {
        "id": "6kd0FP0rb6Kd"
      }
    },
    {
      "cell_type": "code",
      "source": [
        "def get_next_state(state, action):\n",
        "    x, y = state\n",
        "    dx, dy = action\n",
        "    nx, ny = x + dx, y + dy\n",
        "    if 0 <= nx < GRID_SIZE and 0 <= ny < GRID_SIZE:\n",
        "        if grid[nx, ny] == -1:\n",
        "            return state, REWARD_OBSTACLE\n",
        "        elif (nx, ny) == end:\n",
        "            return (nx, ny), REWARD_GOAL\n",
        "        else:\n",
        "            return (nx, ny), REWARD_STEP\n",
        "    return state, REWARD_STEP"
      ],
      "metadata": {
        "id": "-aQ-hjECak4Z"
      },
      "execution_count": 73,
      "outputs": []
    },
    {
      "cell_type": "markdown",
      "source": [
        "Value Iteration algorithm"
      ],
      "metadata": {
        "id": "TiMpnlV_b-Z1"
      }
    },
    {
      "cell_type": "code",
      "source": [
        "def value_iteration(grid, gamma=0.9, theta=1e-4):\n",
        "    value_grid = np.zeros_like(grid, dtype=float)\n",
        "    policy_grid = np.zeros_like(grid, dtype=int)\n",
        "    while True:\n",
        "        delta = 0\n",
        "        for x in range(GRID_SIZE):\n",
        "            for y in range(GRID_SIZE):\n",
        "                if grid[x, y] == -1 or (x, y) == end:\n",
        "                    continue\n",
        "                state = (x, y)\n",
        "                max_value = float('-inf')\n",
        "                best_action = 0\n",
        "                for i, action in enumerate(ACTIONS):\n",
        "                    (nx, ny), reward = get_next_state(state, action)\n",
        "                    value = reward + gamma * value_grid[nx, ny]\n",
        "                    if value > max_value:\n",
        "                        max_value = value\n",
        "                        best_action = i\n",
        "                delta = max(delta, abs(max_value - value_grid[x, y]))\n",
        "                value_grid[x, y] = max_value\n",
        "                policy_grid[x, y] = best_action\n",
        "        if delta < theta:\n",
        "            break\n",
        "    return value_grid, policy_grid"
      ],
      "metadata": {
        "id": "ra7OEsumasGw"
      },
      "execution_count": 74,
      "outputs": []
    },
    {
      "cell_type": "markdown",
      "source": [
        "Q-learning algorithm"
      ],
      "metadata": {
        "id": "P9AFj1lJcCQw"
      }
    },
    {
      "cell_type": "code",
      "source": [
        "def q_learning(grid, episodes=1000, alpha=0.1, gamma=0.9, epsilon=0.1):\n",
        "    q_table = np.zeros((GRID_SIZE, GRID_SIZE, len(ACTIONS)))\n",
        "    for episode in range(episodes):\n",
        "        state = start\n",
        "        while state != end:\n",
        "            x, y = state\n",
        "            if random.uniform(0, 1) < epsilon:\n",
        "                action_index = random.randint(0, len(ACTIONS) - 1)\n",
        "            else:\n",
        "                action_index = np.argmax(q_table[x, y])\n",
        "            action = ACTIONS[action_index]\n",
        "            (nx, ny), reward = get_next_state(state, action)\n",
        "            best_next_action = np.argmax(q_table[nx, ny])\n",
        "            q_table[x, y, action_index] += alpha * (reward + gamma * q_table[nx, ny, best_next_action] - q_table[x, y, action_index])\n",
        "            state = (nx, ny) if reward != REWARD_OBSTACLE else state\n",
        "    return q_table"
      ],
      "metadata": {
        "id": "p_2KnMXsavSY"
      },
      "execution_count": 75,
      "outputs": []
    },
    {
      "cell_type": "code",
      "source": [
        "def visualize_path(policy_grid, path_color='yellow', title=\"Optimal Path\"):\n",
        "    x, y = start\n",
        "    path = [start]\n",
        "    cost = 0\n",
        "    while (x, y) != end:\n",
        "        action = policy_grid[x, y]\n",
        "        dx, dy = ACTIONS[action]\n",
        "        x, y = x + dx, y + dy\n",
        "        if (x, y) in path:  # Prevent loops\n",
        "            break\n",
        "        path.append((x, y))\n",
        "        _, reward = get_next_state((x, y), ACTIONS[action])\n",
        "        cost += reward\n",
        "        if len(path) > GRID_SIZE**2:\n",
        "            break\n",
        "    plt.imshow(grid, cmap='gray')\n",
        "    plt.plot([y for x, y in path], [x for x, y in path], color=path_color, label=\"Path\")\n",
        "    plt.scatter(start[1], start[0], color='blue', label=\"Start\")\n",
        "    plt.scatter(end[1], end[0], color='red', label=\"Goal\")\n",
        "    plt.legend()\n",
        "    plt.axis('off')\n",
        "    plt.title(title)\n",
        "    plt.show()\n",
        "    return path, cost"
      ],
      "metadata": {
        "id": "bEmLWTGQdfAp"
      },
      "execution_count": 76,
      "outputs": []
    },
    {
      "cell_type": "code",
      "source": [
        "def visualize_q_path(q_table, path_color='green', title=\"Optimal Path (Q-Learning)\"):\n",
        "    x, y = start\n",
        "    path = [start]\n",
        "    cost = 0\n",
        "    visited = set()\n",
        "    while (x, y) != end:\n",
        "        visited.add((x, y))\n",
        "        action_index = np.argmax(q_table[x, y])\n",
        "        dx, dy = ACTIONS[action_index]\n",
        "        nx, ny = x + dx, y + dy\n",
        "        if (nx, ny) in visited:\n",
        "            break\n",
        "        path.append((nx, ny))\n",
        "        _, reward = get_next_state((x, y), ACTIONS[action_index])\n",
        "        cost += reward\n",
        "        x, y = nx, ny\n",
        "        if len(path) > GRID_SIZE**2:\n",
        "            break\n",
        "    plt.imshow(grid, cmap='gray')\n",
        "    plt.plot([y for x, y in path], [x for x, y in path], color=path_color, label=\"Path\")\n",
        "    plt.scatter(start[1], start[0], color='blue', label=\"Start\")\n",
        "    plt.scatter(end[1], end[0], color='red', label=\"Goal\")\n",
        "    plt.legend()\n",
        "    plt.axis('off')\n",
        "    plt.title(title)\n",
        "    plt.show()\n",
        "    return path, cost"
      ],
      "metadata": {
        "id": "Q1d8EP-eeHMl"
      },
      "execution_count": 77,
      "outputs": []
    },
    {
      "cell_type": "code",
      "source": [
        "start_time = time.time()\n",
        "value_grid, policy_grid = value_iteration(grid)\n",
        "dp_time = time.time() - start_time\n",
        "dp_route, dp_cost = visualize_path(policy_grid, path_color='yellow', title=\"Optimal Path using Value Iteration\")\n",
        "dp_route_length = len(dp_route)\n"
      ],
      "metadata": {
        "colab": {
          "base_uri": "https://localhost:8080/",
          "height": 428
        },
        "id": "27Y1towqeLAv",
        "outputId": "85c6ffab-bbf9-40c8-d584-9fc29090d19b"
      },
      "execution_count": 78,
      "outputs": [
        {
          "output_type": "display_data",
          "data": {
            "text/plain": [
              "<Figure size 640x480 with 1 Axes>"
            ],
            "image/png": "[encoded data removed]"
          },
          "metadata": {}
        }
      ]
    },
    {
      "cell_type": "code",
      "source": [
        "q_episodes = 1000\n",
        "start_time = time.time()\n",
        "q_table = q_learning(grid, episodes=q_episodes)\n",
        "q_time = time.time() - start_time\n",
        "q_route, q_cost = visualize_q_path(q_table, path_color='green', title=\"Optimal Path using Q-Learning\")\n",
        "q_route_length = len(q_route)"
      ],
      "metadata": {
        "colab": {
          "base_uri": "https://localhost:8080/",
          "height": 428
        },
        "id": "v9Uc8AVjeLkN",
        "outputId": "e9196fd9-94a4-4e1d-9b40-a8b38df95e89"
      },
      "execution_count": 79,
      "outputs": [
        {
          "output_type": "display_data",
          "data": {
            "text/plain": [
              "<Figure size 640x480 with 1 Axes>"
            ],
            "image/png": "[encoded data removed]"
          },
          "metadata": {}
        }
      ]
    },
    {
      "cell_type": "code",
      "source": [
        "print(\"\\nPerformance Comparison:\")\n",
        "print(\"=\" * 40)\n",
        "print(\"Dynamic Programming (Value Iteration):\")\n",
        "print(f\"  Route Length: {dp_route_length}\")\n",
        "print(f\"  Convergence Cycles: ~{dp_route_length}\")\n",
        "print(f\"  Processing Time: {dp_time:.2f} seconds\")\n",
        "print(f\"  Total Path Cost: {dp_cost}\")\n",
        "print(\"\\nQ-Learning:\")\n",
        "print(f\"  Route Length: {q_route_length}\")\n",
        "print(f\"  Training Episodes: {q_episodes}\")\n",
        "print(f\"  Processing Time: {q_time:.2f} seconds\")\n",
        "print(f\"  Total Path Cost: {q_cost}\")\n",
        "print(\"=\" * 40)"
      ],
      "metadata": {
        "colab": {
          "base_uri": "https://localhost:8080/"
        },
        "id": "Z5GpmRI-eNZ9",
        "outputId": "7264a4be-bf75-40df-d464-13c3323410be"
      },
      "execution_count": 80,
      "outputs": [
        {
          "output_type": "stream",
          "name": "stdout",
          "text": [
            "\n",
            "Performance Comparison:\n",
            "========================================\n",
            "Dynamic Programming (Value Iteration):\n",
            "  Route Length: 84\n",
            "  Convergence Cycles: ~84\n",
            "  Processing Time: 7.93 seconds\n",
            "  Total Path Cost: -873\n",
            "\n",
            "Q-Learning:\n",
            "  Route Length: 6\n",
            "  Training Episodes: 1000\n",
            "  Processing Time: 39.32 seconds\n",
            "  Total Path Cost: -5\n",
            "========================================\n"
          ]
        }
      ]
    }
  ],
  "metadata": {
    "colab": {
      "provenance": []
    },
    "kernelspec": {
      "display_name": "Python 3",
      "language": "python",
      "name": "python3"
    },
    "language_info": {
      "codemirror_mode": {
        "name": "ipython",
        "version": 3
      },
      "file_extension": ".py",
      "mimetype": "text/x-python",
      "name": "python",
      "nbconvert_exporter": "python",
      "pygments_lexer": "ipython3",
      "version": "3.9.7"
    }
  },
  "nbformat": 4,
  "nbformat_minor": 0
}